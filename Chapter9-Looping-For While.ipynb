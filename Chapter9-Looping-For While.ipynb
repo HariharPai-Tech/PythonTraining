{
 "cells": [
  {
   "cell_type": "code",
   "execution_count": null,
   "metadata": {},
   "outputs": [],
   "source": [
    "for i in range(0,10,2):\n",
    "    print(i)"
   ]
  },
  {
   "attachments": {},
   "cell_type": "markdown",
   "metadata": {},
   "source": [
    "![ExamPressure.JPG](./Images/ExamPressure.JPG)"
   ]
  },
  {
   "cell_type": "code",
   "execution_count": null,
   "metadata": {},
   "outputs": [],
   "source": [
    "# Do you have exam pressure\n",
    "\n",
    "\n",
    "for i in <enter the range it will increase from 110 t0 200 with 10 units each time> :\n",
    "    if (i<120):\n",
    "        print(\"Pressure is {} mm/hg cool down its okay you will do well\".format(i))\n",
    "    elif(i>=120 and i <130):\n",
    "        print (\"Elevated blood Pressure {} mm/hg. Try to calm down quicky \".format(i))\n",
    "    elif(i>=130 and i <=140):\n",
    "        print (\"High blood pressure stage1 {} mm/hg. Breath deep, take coffee \".format(i))\n",
    "    elif(i>140 and i <=180):\n",
    "        print (\"High blood pressure stage2 {} mm/hg. Take some tablets\".format(i))\n",
    "    else:\n",
    "        print (\"Hypertensive crises {} mm/hg. Forget Exams consult doctor\".format(i))\n",
    "        \n"
   ]
  },
  {
   "cell_type": "code",
   "execution_count": null,
   "metadata": {},
   "outputs": [],
   "source": [
    "#Looping on a string enumaration\n",
    "\n",
    "This_is_our_original_meaning = \"Awesomely Radical Internet Business Application\"\n",
    "\n",
    "for n,alphabet in <enumarate it>:\n",
    "    print(n, alphabet)\n"
   ]
  },
  {
   "cell_type": "code",
   "execution_count": null,
   "metadata": {},
   "outputs": [],
   "source": [
    "nums = '838848237890237388221'\n",
    "all_even=''\n",
    "all_odd = ''\n",
    "\n",
    "<even and odd numbers>\n",
    "\n",
    "print('All Evens are : '+ all_even + ' & All odds are : '+ all_odd)"
   ]
  },
  {
   "attachments": {},
   "cell_type": "markdown",
   "metadata": {},
   "source": [
    "![Procrastination.jpeg](./Images/Procrastination.jpeg)"
   ]
  },
  {
   "cell_type": "code",
   "execution_count": null,
   "metadata": {},
   "outputs": [],
   "source": [
    "#while loop\n",
    "import random;\n",
    "daysLeftForPythonTraining=10\n",
    "\n",
    "howISpentTime=[\"Watch Shark Tank Episode\",\n",
    "                \"Update Quora\",\n",
    "                \"Think about marketing book\", \n",
    "                \"Listen to Sanjay Manjrekar song\", \n",
    "                \"See video about Codas gigas\" ,\n",
    "                \"Watch Rocket Boys\", \n",
    "                \"Reading about Param Super Computers\", \n",
    "                \"Will India be able to sell Tejas to Malaysia? Latest updates\",\n",
    "                \"Status about cheetah reintoduction in wild\",\n",
    "                \"How to build antigravity device?\",\n",
    "                \"Update new content in youtube channel\",\n",
    "                \"Solve rubix cube\",\n",
    "                \"Work on IOT\"]\n",
    "\n",
    "<until it was two day left I wasted the time>\n",
    "    \n",
    "    whatIdid=random.choice(howISpentTime)\n",
    "    print(\"Days left {} : {}\".format(daysLeftForPythonTraining, whatIdid))\n",
    "    daysLeftForPythonTraining-=1\n",
    "   \n",
    "\n",
    "print(\"Panic!!!!!!\")\n",
    "print (\"Lord please help me. I dont want to make deal with Lucifer!\")\n",
    "\n"
   ]
  },
  {
   "attachments": {},
   "cell_type": "markdown",
   "metadata": {},
   "source": [
    "#Break Statement \n",
    "\n",
    "#### PHD Degree minimum credits needed is 120\n",
    "\n",
    "\n",
    "![phd101209s_2.gif](./Images/phd101209s_2.gif)"
   ]
  },
  {
   "cell_type": "code",
   "execution_count": null,
   "metadata": {},
   "outputs": [],
   "source": [
    "import random\n",
    "credits = {'Machine Learning Course':25, \n",
    "           'Computer Vision': 20, \n",
    "           'Bored of study, taking break':0,\n",
    "           'Reducing the cost of cloud subscription':25,\n",
    "           'Taking a vacation to Auli' :0,\n",
    "           'Paper on Satellite communication encryption' : 40,\n",
    "           'Quantum computing' : 20,\n",
    "           'Ways of setting up Honey pods':15,\n",
    "           'Terrain contour matching':30,\n",
    "           'Paper on block chain for land record reforms':30,\n",
    "           'Paper on IOT To dectect the oil leakages' :20,\n",
    "           'Paper on Anti Drone Technologies':20\n",
    "          }\n",
    "\n",
    "totalCredits = 0\n",
    "monthsElapsed = 0\n",
    "\n",
    "\n",
    "<infinite loop>\n",
    "\n",
    "    whatIChoose=random.choice(list(credits.keys()))\n",
    "    \n",
    "   \n",
    "    \n",
    "    totalCredits += credits[whatIChoose]\n",
    "    monthsElapsed += 6\n",
    "    del credits[whatIChoose] # once finished remove the course.\n",
    "    print (\"Total months {}: Total Credits {} : {}\".format(monthsElapsed,totalCredits,whatIChoose))\n",
    "    \n",
    "    <exit loop if the you already have 120 credits>\n",
    "    \n",
    "\n",
    "print (\"Congratulations!  you have covered all the course work in {} months , now submit your thesis\".format(monthsElapsed))\n",
    "    \n",
    "    "
   ]
  },
  {
   "cell_type": "markdown",
   "metadata": {},
   "source": [
    "##### Continue statement will not execute the statements after the continue and will go the the next run of the loop."
   ]
  },
  {
   "attachments": {},
   "cell_type": "markdown",
   "metadata": {},
   "source": [
    "![NoMeetingDay.jpeg](./Images/NoMeetingDay.jpeg)"
   ]
  },
  {
   "cell_type": "code",
   "execution_count": null,
   "metadata": {},
   "outputs": [],
   "source": [
    "workingDays = ['Monday','Tuesday','Wednesday','Thursday','Friday']\n",
    "\n",
    "for day in workingDays:\n",
    "    \n",
    "    <skip the below part if the day is wednesday>\n",
    "    \n",
    "    print (\" 1. Today is '{}' prepare notes for 9:00 scrum\".format(day))\n",
    "    print (\" 2. Update CATS \")\n",
    "    print (\" 3. List down blockers \\n\\n \")\n",
    "        \n",
    "        "
   ]
  },
  {
   "cell_type": "markdown",
   "metadata": {},
   "source": [
    "                                       Practice\n",
    "\n",
    "\n",
    "#### Can you predict ?"
   ]
  },
  {
   "attachments": {},
   "cell_type": "markdown",
   "metadata": {},
   "source": [
    "![crystalball.jpeg](./Images/crystalball.jpeg)"
   ]
  },
  {
   "cell_type": "markdown",
   "metadata": {},
   "source": [
    "#### random.random() gives the number between 0.0 - 1.0"
   ]
  },
  {
   "cell_type": "code",
   "execution_count": null,
   "metadata": {},
   "outputs": [],
   "source": [
    "import random;\n",
    "number = 25;\n",
    "print (int(number*random.random()))"
   ]
  },
  {
   "cell_type": "markdown",
   "metadata": {},
   "source": [
    "1. Write a game which generates a random number between 1-25\n",
    "2. The game asks the user to enter the guess\n",
    "3. It tells if the guessed number is less than or greater than the generated number\n",
    "4. The user has to predict in as much less tries as possible\n"
   ]
  }
 ],
 "metadata": {
  "anaconda-cloud": {},
  "kernelspec": {
   "display_name": "PythonNew  (ipykernel)",
   "language": "python",
   "name": "python3"
  },
  "language_info": {
   "codemirror_mode": {
    "name": "ipython",
    "version": 3
   },
   "file_extension": ".py",
   "mimetype": "text/x-python",
   "name": "python",
   "nbconvert_exporter": "python",
   "pygments_lexer": "ipython3",
   "version": "3.7.12"
  }
 },
 "nbformat": 4,
 "nbformat_minor": 1
}
