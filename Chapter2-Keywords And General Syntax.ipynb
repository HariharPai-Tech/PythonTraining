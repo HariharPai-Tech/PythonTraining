{
 "cells": [
  {
   "cell_type": "code",
   "execution_count": null,
   "metadata": {},
   "outputs": [],
   "source": [
    "#!/usr/bin/python\n",
    " \n",
    "print (\"Congratulations on starting ... In few hours you will know how to code in python\");"
   ]
  },
  {
   "cell_type": "markdown",
   "metadata": {},
   "source": [
    "##### Difference between python2 and python3"
   ]
  },
  {
   "attachments": {},
   "cell_type": "markdown",
   "metadata": {},
   "source": [
    "![Identifiers.png](./Images/Identifiers.png)"
   ]
  },
  {
   "cell_type": "markdown",
   "metadata": {},
   "source": [
    "##### Identifiers"
   ]
  },
  {
   "cell_type": "markdown",
   "metadata": {},
   "source": [
    "##### A python identifer is a name to identify\n",
    "\n",
    "1. Variable\n",
    "2. Class\n",
    "3. Function\n",
    "4. Module\n",
    "5. Object"
   ]
  },
  {
   "cell_type": "markdown",
   "metadata": {},
   "source": [
    "#### Snake , The Camel and the Pascal"
   ]
  },
  {
   "attachments": {},
   "cell_type": "markdown",
   "metadata": {},
   "source": [
    "![snakeCamel.jpg](./Images/snakeCamel.jpg)"
   ]
  },
  {
   "cell_type": "markdown",
   "metadata": {},
   "source": [
    "#### buyer test passed percentage in all three cases Snake, Camel, Pascal\n",
    "\n",
    "<how is snake,camel and pascal>"
   ]
  },
  {
   "cell_type": "markdown",
   "metadata": {},
   "source": [
    "#### “`What's in a name?` That which we call a `rose` by any other name would smell just as sweet.” `William Shakespeare` uses this line in his play `Romeo and Juliet` to convey that the naming of things is irrelevant. But he did not know the consequence of naming without thinking ... "
   ]
  },
  {
   "attachments": {},
   "cell_type": "markdown",
   "metadata": {},
   "source": [
    "![ws2.jpeg](./Images/ws2.jpeg)"
   ]
  },
  {
   "cell_type": "markdown",
   "metadata": {},
   "source": [
    "##### Rules of identifiers:\n",
    "\n",
    "1. Indentifier can start with A-Z of a-z or _\n",
    "2. Following with 0 or more letters, _  or digits 0-9\n",
    "3. 'Variable' and 'variable' are two different identifiers.\n",
    "4. Reserved keywords cannot be used"
   ]
  },
  {
   "cell_type": "code",
   "execution_count": null,
   "metadata": {},
   "outputs": [],
   "source": [
    "Atak = ''\n",
    "At098 = ''\n",
    "ak_47=''\n",
    "_morning =''\n",
    "__evening =\"\"\n",
    "_0ALL=''\n"
   ]
  },
  {
   "cell_type": "code",
   "execution_count": null,
   "metadata": {},
   "outputs": [],
   "source": [
    "<digit followed by string>"
   ]
  },
  {
   "cell_type": "code",
   "execution_count": null,
   "metadata": {},
   "outputs": [],
   "source": [
    "<Can ak-47 be the same of the variable>"
   ]
  },
  {
   "cell_type": "markdown",
   "metadata": {},
   "source": [
    "Conventions of identifiers:\n",
    "\n",
    " 1. Class name starts with uppercase all the other identifiers are lower case\n",
    " 2. _Variable means its private\n",
    " 3. __Varibale means its strong private"
   ]
  },
  {
   "cell_type": "code",
   "execution_count": null,
   "metadata": {},
   "outputs": [],
   "source": [
    "<display keywords which are reserved>"
   ]
  },
  {
   "cell_type": "markdown",
   "metadata": {},
   "source": [
    "#### INDENTATION"
   ]
  },
  {
   "cell_type": "markdown",
   "metadata": {},
   "source": [
    "1. Indentation is strictly enforced in python.\n",
    "2. It has no curly brackets, so indentation is the only way to define scope"
   ]
  },
  {
   "cell_type": "code",
   "execution_count": null,
   "metadata": {},
   "outputs": [],
   "source": [
    "timeOfDay= \"Morning\"\n",
    "\n",
    "if (timeOfDay == 'Morning') :\n",
    "print (\"Good Morning\")\n",
    "else:\n",
    "     print(\"Good Evening\")\n",
    "\n"
   ]
  },
  {
   "cell_type": "markdown",
   "metadata": {},
   "source": [
    "#### Multiline Statements"
   ]
  },
  {
   "cell_type": "code",
   "execution_count": null,
   "metadata": {},
   "outputs": [],
   "source": [
    "sum = <enter the digits in multiline>\n",
    "print (sum)\n",
    " "
   ]
  },
  {
   "cell_type": "markdown",
   "metadata": {},
   "source": [
    "#### Statements with [] ,() and {} does not require escape sequence for multiline"
   ]
  },
  {
   "cell_type": "code",
   "execution_count": null,
   "metadata": {},
   "outputs": [],
   "source": [
    "weekDays = [ 'Monday' , 'Tuesday' , 'Wednesday','Thursday' , 'Friday' , 'Saturday']"
   ]
  },
  {
   "cell_type": "markdown",
   "metadata": {},
   "source": [
    "#### Quotation in Python "
   ]
  },
  {
   "cell_type": "markdown",
   "metadata": {},
   "source": [
    "#### There are three types of quotation\n",
    "\n",
    "1. Single Quotes 'Python'\n",
    "2. Double Quotes \"Python is interesting\"\n",
    "3. Triple Quotes  \"\"\" After this training we will\n",
    "                      be experts in python \"\"\""
   ]
  },
  {
   "cell_type": "markdown",
   "metadata": {},
   "source": [
    "#### Comments in Python\n",
    " 1. \\# is used to comment in python\n",
    " 2. Triple quotes are used as multi line comments"
   ]
  },
  {
   "cell_type": "code",
   "execution_count": null,
   "metadata": {},
   "outputs": [],
   "source": [
    "def greetAudience():\n",
    "    '''\n",
    "     This function accepts no arguments but greets\n",
    "     the audience\n",
    "    '''\n",
    "    print (\"We, from the tools team, welcome all for python training\")\n",
    " \n",
    "greetAudience()\n",
    " \n",
    "#We, from the tools team, welcome all for python training"
   ]
  },
  {
   "cell_type": "code",
   "execution_count": null,
   "metadata": {},
   "outputs": [],
   "source": [
    "#size of character\n",
    "<print the size of character>"
   ]
  },
  {
   "cell_type": "code",
   "execution_count": null,
   "metadata": {},
   "outputs": [],
   "source": [
    "#size of integer\n",
    "<size of integer> #24 for 32 bit machines"
   ]
  },
  {
   "cell_type": "code",
   "execution_count": null,
   "metadata": {},
   "outputs": [],
   "source": [
    "#size of float\n",
    "<size of float>"
   ]
  },
  {
   "cell_type": "code",
   "execution_count": null,
   "metadata": {},
   "outputs": [],
   "source": [
    "#size of bool\n",
    "<size of bool>"
   ]
  }
 ],
 "metadata": {
  "kernelspec": {
   "display_name": "PythonNew  (ipykernel)",
   "language": "python",
   "name": "python3"
  },
  "language_info": {
   "codemirror_mode": {
    "name": "ipython",
    "version": 3
   },
   "file_extension": ".py",
   "mimetype": "text/x-python",
   "name": "python",
   "nbconvert_exporter": "python",
   "pygments_lexer": "ipython3",
   "version": "3.7.12"
  }
 },
 "nbformat": 4,
 "nbformat_minor": 4
}
