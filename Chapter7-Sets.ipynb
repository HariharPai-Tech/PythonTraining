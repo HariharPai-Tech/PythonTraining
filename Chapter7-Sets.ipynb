{
 "cells": [
  {
   "cell_type": "markdown",
   "metadata": {},
   "source": [
    "##### Set \n",
    "1. Unordered And Unindexed\n",
    "2. Contains only unique elements\n",
    "3. Represented by {}\n",
    "\n"
   ]
  },
  {
   "attachments": {},
   "cell_type": "markdown",
   "metadata": {},
   "source": [
    "![Library.jpeg](./Images/Library.jpeg)"
   ]
  },
  {
   "cell_type": "code",
   "execution_count": null,
   "metadata": {},
   "outputs": [],
   "source": [
    "myBookCollection = ['Tharoorosaurus',\n",
    "                    'Malnad Mysteries',\n",
    "                    'Maharaja',\n",
    "                    'Roads To Mussoorie',\n",
    "                    'Here There And Everywhere',\n",
    "                    'Jym Corbett Life in the wild',\n",
    "                    'Malnad Mysteries']\n"
   ]
  },
  {
   "cell_type": "code",
   "execution_count": null,
   "metadata": {},
   "outputs": [],
   "source": [
    "print(myBookCollection)\n",
    "print(\"Total Books are \"+ str(len(myBookCollection)))"
   ]
  },
  {
   "cell_type": "code",
   "execution_count": null,
   "metadata": {},
   "outputs": [],
   "source": [
    "myBookCollectionUnique = <show only unique books>\n",
    "print(myBookCollectionUnique)\n",
    "print(\"Total Books are \"+ str(len(myBookCollectionUnique)))\n"
   ]
  },
  {
   "cell_type": "code",
   "execution_count": null,
   "metadata": {},
   "outputs": [],
   "source": [
    "print(type(myBookCollectionUnique))\n",
    "print(myBookCollectionUnique)"
   ]
  },
  {
   "attachments": {},
   "cell_type": "markdown",
   "metadata": {},
   "source": [
    "![FriendsLibrary.jpeg](./Images/FriendsLibrary.jpeg)"
   ]
  },
  {
   "cell_type": "code",
   "execution_count": null,
   "metadata": {},
   "outputs": [],
   "source": [
    "myFriendBookCollection = {'Roads To Mussoorie', 'Malnad Mysteries', 'Mantra Tanta Yantra','Living With Himalayan Masters','Autobiography Of The Yogi'}\n"
   ]
  },
  {
   "cell_type": "code",
   "execution_count": null,
   "metadata": {},
   "outputs": [],
   "source": [
    "\n",
    "print(type(myFriendBookCollection))\n",
    "print(myFriendBookCollection)"
   ]
  },
  {
   "attachments": {},
   "cell_type": "markdown",
   "metadata": {},
   "source": [
    "![sets-operations.png](./Images/sets-operations.png)"
   ]
  },
  {
   "cell_type": "code",
   "execution_count": null,
   "metadata": {},
   "outputs": [],
   "source": [
    "#Common books in my Library and my frinds library\n",
    "\n",
    "print(<common books>)"
   ]
  },
  {
   "cell_type": "code",
   "execution_count": null,
   "metadata": {},
   "outputs": [],
   "source": [
    "#unique Books in both the libraries\n",
    "print(myBookCollectionUnique<books which are unique>(myFriendBookCollection))"
   ]
  },
  {
   "cell_type": "code",
   "execution_count": null,
   "metadata": {},
   "outputs": [],
   "source": [
    "#books which are present only in my library\n",
    "print(<books only in my library>)"
   ]
  },
  {
   "cell_type": "markdown",
   "metadata": {},
   "source": [
    "                                       Practice\n",
    "    \n",
    "    * An wildlife photographer covers Indian and African safari\n",
    "    * He clicks following big-game animals in Africa\n",
    "      \"Hippopotamous\",\"Lion\",\"Rhino\",\"Zebra\",\"Mountain Gorilla\",\"Leapord\",\"Cheetah\",\"Elephant\"\n",
    "    * He clicks following animals in India\n",
    "      \"Tiger\",\"Lion\",\"Cheetal\",\"Sambar\",\"Leapord\",\"Elephant\",\"Gaur\",\"Lion Tailed Macaque\""
   ]
  },
  {
   "attachments": {},
   "cell_type": "markdown",
   "metadata": {},
   "source": [
    "![WildLifePhotography.webp](./Images/WildLifePhotography.webp)"
   ]
  },
  {
   "cell_type": "markdown",
   "metadata": {},
   "source": [
    "#### Construct two set of Indian and African animals"
   ]
  },
  {
   "cell_type": "code",
   "execution_count": null,
   "metadata": {},
   "outputs": [],
   "source": [
    "animalsOfIndia = <construct set>\n",
    "animalsOfAfrica= <construct set>"
   ]
  },
  {
   "cell_type": "markdown",
   "metadata": {},
   "source": [
    "#### Which are the common animals found in Africa and India"
   ]
  },
  {
   "cell_type": "code",
   "execution_count": null,
   "metadata": {},
   "outputs": [],
   "source": [
    "<animals found only in africa>"
   ]
  },
  {
   "cell_type": "markdown",
   "metadata": {},
   "source": [
    "#### Unique species of all the animal species he has taken the photography of"
   ]
  },
  {
   "cell_type": "code",
   "execution_count": null,
   "metadata": {},
   "outputs": [],
   "source": [
    "< unique species of animals found both in india and africa>"
   ]
  },
  {
   "cell_type": "markdown",
   "metadata": {},
   "source": [
    "#### List the animals found only in India"
   ]
  },
  {
   "cell_type": "code",
   "execution_count": null,
   "metadata": {},
   "outputs": [],
   "source": [
    "<animals found only in India and not in Africa>"
   ]
  }
 ],
 "metadata": {
  "anaconda-cloud": {},
  "kernelspec": {
   "display_name": "PythonNew  (ipykernel)",
   "language": "python",
   "name": "python3"
  },
  "language_info": {
   "codemirror_mode": {
    "name": "ipython",
    "version": 3
   },
   "file_extension": ".py",
   "mimetype": "text/x-python",
   "name": "python",
   "nbconvert_exporter": "python",
   "pygments_lexer": "ipython3",
   "version": "3.7.12"
  }
 },
 "nbformat": 4,
 "nbformat_minor": 1
}
