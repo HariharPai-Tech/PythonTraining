{
 "cells": [
  {
   "cell_type": "markdown",
   "metadata": {},
   "source": [
    "Variable types\n",
    "\n",
    "\n",
    "1. Numbers\n",
    "2. Strings\n",
    "3. List\n",
    "4. Tuple\n",
    "5. Dictionary"
   ]
  },
  {
   "cell_type": "markdown",
   "metadata": {},
   "source": [
    "##### Assigning the variables\n",
    "\n",
    "\n",
    "1. Single value to single variable Ex: var1= 'variable declaration'\n",
    "2. Single value to multiple variables Ex: var1 = var2 =var3 =\"Single Value Multi Variables\"\n",
    "3. Multiple values to multiple variables Ex: var1,var2,var3,var4,var5 = \"Ready...\",1,2,'3', \"Start\""
   ]
  },
  {
   "cell_type": "code",
   "execution_count": null,
   "metadata": {},
   "outputs": [],
   "source": [
    " 1. < single variable >\n",
    " 2. < multi variable single value >"
   ]
  },
  {
   "cell_type": "code",
   "execution_count": null,
   "metadata": {},
   "outputs": [],
   "source": [
    "var1,var2,var3,var4,var5 = <start with a bang>\n",
    "print (var1,var2,var3,var4,var5) #Ready... 1 2 3 Start\n",
    "print (type(var1)) #<class 'str'>\n",
    "print (type(var2)) #<class 'int'>\n",
    "print (type(var4)) #<class 'str'>"
   ]
  },
  {
   "cell_type": "markdown",
   "metadata": {},
   "source": [
    "#### type() function gives the type of the variable"
   ]
  },
  {
   "cell_type": "code",
   "execution_count": null,
   "metadata": {},
   "outputs": [],
   "source": [
    "\n",
    "<delete the variable two and three> #it is used to delete the reference of the variable\n",
    " \n",
    "print(var2) #name 'var2' is not defined"
   ]
  },
  {
   "cell_type": "markdown",
   "metadata": {},
   "source": [
    "##### Numbers\n",
    "\n",
    "1. int\n",
    "2. long \n",
    "3. float \n",
    "4. complex"
   ]
  },
  {
   "cell_type": "markdown",
   "metadata": {},
   "source": [
    "#### Automatic type casting"
   ]
  },
  {
   "cell_type": "code",
   "execution_count": null,
   "metadata": {},
   "outputs": [],
   "source": [
    "\n",
    "var1 = 10\n",
    "var2= 5.1\n",
    " \n",
    "print(<add the variable and see auto type casting>)"
   ]
  },
  {
   "cell_type": "markdown",
   "metadata": {},
   "source": [
    "#### Manual Type Casting"
   ]
  },
  {
   "cell_type": "code",
   "execution_count": null,
   "metadata": {},
   "outputs": [],
   "source": [
    "#int to float\n",
    "varInt = 25\n",
    "print(<convert int to float>) \n",
    " \n",
    "#Float to Int\n",
    "varFloat = 60.7\n",
    "print(<convert float to int>) \n",
    " \n",
    "varString = 'A'\n",
    "print(int(varString, base=16)) \n",
    " \n",
    "varString='10'\n",
    "print(type(varString)) \n",
    " \n",
    "varInt=int(varString)\n",
    "print (varInt) "
   ]
  },
  {
   "cell_type": "code",
   "execution_count": null,
   "metadata": {},
   "outputs": [],
   "source": [
    "#get ASCII value\n",
    "<get the ascii value of a>"
   ]
  },
  {
   "cell_type": "code",
   "execution_count": null,
   "metadata": {},
   "outputs": [],
   "source": [
    "# Get char AT ASCII value \n",
    "<get the char at ascii value 66>"
   ]
  },
  {
   "cell_type": "code",
   "execution_count": null,
   "metadata": {},
   "outputs": [],
   "source": [
    "# Get char AT ASCII value \n",
    "<take the ord of s and add it by 1 and get the character>"
   ]
  },
  {
   "cell_type": "markdown",
   "metadata": {},
   "source": [
    "##### Two ways to ask user to input"
   ]
  },
  {
   "cell_type": "code",
   "execution_count": null,
   "metadata": {},
   "outputs": [],
   "source": [
    "userInput = <ask user for the input>\n",
    "print (userInput)"
   ]
  },
  {
   "cell_type": "markdown",
   "metadata": {},
   "source": [
    "##### raw_input it was used in python2"
   ]
  },
  {
   "cell_type": "markdown",
   "metadata": {},
   "source": [
    "#### Strings are group of Characters"
   ]
  },
  {
   "cell_type": "markdown",
   "metadata": {},
   "source": [
    "##### '+' is used for concatination"
   ]
  },
  {
   "cell_type": "code",
   "execution_count": null,
   "metadata": {},
   "outputs": [],
   "source": [
    "weWorkIn= \"SAP \"+\"Ariba\"\n",
    "weWorkIn"
   ]
  },
  {
   "cell_type": "code",
   "execution_count": null,
   "metadata": {},
   "outputs": [],
   "source": [
    "buildResult=input(\"Percentage of tests failed \")\n",
    " \n",
    " \n",
    "# Output\n",
    "if(int(buildResult) < 25):\n",
    "    sendMail =\"The build is failed. Only \"<concatinate the build result to string>'%'+\" tests passed. Kindly take a look\";\n",
    "else:\n",
    "    sendMail = \"Congratualtions you can merge the code...\"\n",
    "     \n",
    "print (sendMail)"
   ]
  },
  {
   "cell_type": "markdown",
   "metadata": {},
   "source": [
    "##### '*' is used for string repetation "
   ]
  },
  {
   "attachments": {},
   "cell_type": "markdown",
   "metadata": {},
   "source": [
    "![Tantrik.jpeg](./Images/Tantrik.jpeg)"
   ]
  },
  {
   "cell_type": "code",
   "execution_count": null,
   "metadata": {},
   "outputs": [],
   "source": [
    "print (\"Me : Tantrik Baba , my code is not executing smoothly these days ...\\n\")\n",
    "print (\"Tantrik: Okay Gpay me 501 Rs. fees and type the below mantra 50 times ... \\n \")\n",
    "secretMantra =\"\"\"\n",
    "To All The god and godesses of Desire; \n",
    "I command the thee;\n",
    "Knowledge from universe be with me;\n",
    "I command the thee all in mute;\n",
    "Let my programs execute!!!!!!!!!!!! \\n \"\"\"\n"
   ]
  },
  {
   "cell_type": "code",
   "execution_count": null,
   "metadata": {},
   "outputs": [],
   "source": [
    "<repeat the mantras 50 times>"
   ]
  },
  {
   "cell_type": "code",
   "execution_count": null,
   "metadata": {},
   "outputs": [],
   "source": [
    "print (\"Amazingly my all programs are executing now ...\")"
   ]
  },
  {
   "cell_type": "markdown",
   "metadata": {},
   "source": [
    "##### A pratical application of '*' in string repetation is to create a file of required size."
   ]
  },
  {
   "cell_type": "code",
   "execution_count": null,
   "metadata": {},
   "outputs": [],
   "source": [
    "f = open(\"Myfiles\", \"wb\")\n",
    "size = 1073741824 # bytes in 1 GiB\n",
    "f.write(b\"\\0\" * size)"
   ]
  },
  {
   "cell_type": "markdown",
   "metadata": {},
   "source": [
    "#### String Operations:"
   ]
  },
  {
   "cell_type": "code",
   "execution_count": null,
   "metadata": {},
   "outputs": [],
   "source": [
    "\n",
    "#!/usr/bin/python\n",
    " \n",
    "str = '1234567890 ABCDEFGHIJ'\n",
    "print(str) #1234567890 ABCDEFGHIJ\n"
   ]
  },
  {
   "cell_type": "code",
   "execution_count": null,
   "metadata": {},
   "outputs": [],
   "source": [
    "#print the third element\n",
    "\n",
    "str = '1234567890 ABCDEFGHIJ'\n",
    "print(str) #1234567890 ABCDEFGHIJ\n",
    "<print the third element>"
   ]
  },
  {
   "cell_type": "code",
   "execution_count": null,
   "metadata": {},
   "outputs": [],
   "source": [
    "#print the third element to last element\n",
    "\n",
    "<print from third to last element>"
   ]
  },
  {
   "cell_type": "code",
   "execution_count": null,
   "metadata": {},
   "outputs": [],
   "source": [
    "#print the last element\n",
    "< print the last element >"
   ]
  },
  {
   "cell_type": "code",
   "execution_count": null,
   "metadata": {},
   "outputs": [],
   "source": [
    "#print the odd elements\n",
    "\n",
    "<print the odd element>"
   ]
  },
  {
   "cell_type": "code",
   "execution_count": null,
   "metadata": {},
   "outputs": [],
   "source": [
    "#last 4 elements\n",
    "\n",
    "<print the last 4 elements>"
   ]
  },
  {
   "cell_type": "code",
   "execution_count": null,
   "metadata": {},
   "outputs": [],
   "source": [
    "# Reverse the element in the list\n",
    "<Reverse the element in the list>"
   ]
  },
  {
   "cell_type": "code",
   "execution_count": null,
   "metadata": {},
   "outputs": [],
   "source": [
    "                                                    Practice\n",
    "    \n",
    "    1. Doctor Reddy is the famous doctor. \n",
    "    2. He listents patiently the symptoms and tells you the way to reverse the symptoms\n",
    "    3. Once the symptoms are reversed the cure is natural\n",
    "    4. You are needed to reverse the symptoms and look at the prescriptions \n",
    "    5. Most of the diseases are caused when you have stress"
   ]
  },
  {
   "attachments": {},
   "cell_type": "markdown",
   "metadata": {},
   "source": [
    "![Doctor.png](./Images/Doctor.png)"
   ]
  },
  {
   "cell_type": "code",
   "execution_count": null,
   "metadata": {},
   "outputs": [],
   "source": [
    "#String reverse example\n",
    "symptoms='stressed'\n",
    "medication = < reverse the symptoms >\n",
    "prescription = \"If you are \"+symptoms+ \" have \" +medication\n",
    "print (prescription)"
   ]
  }
 ],
 "metadata": {
  "kernelspec": {
   "display_name": "PythonNew  (ipykernel)",
   "language": "python",
   "name": "python3"
  },
  "language_info": {
   "codemirror_mode": {
    "name": "ipython",
    "version": 3
   },
   "file_extension": ".py",
   "mimetype": "text/x-python",
   "name": "python",
   "nbconvert_exporter": "python",
   "pygments_lexer": "ipython3",
   "version": "3.7.12"
  }
 },
 "nbformat": 4,
 "nbformat_minor": 4
}
