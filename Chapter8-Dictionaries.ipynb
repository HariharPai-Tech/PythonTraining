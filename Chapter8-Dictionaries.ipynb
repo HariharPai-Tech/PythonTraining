{
 "cells": [
  {
   "cell_type": "markdown",
   "metadata": {},
   "source": [
    "### Dictionary \n",
    "1. Is The Mapping between Key and the Value pairs. \n",
    "2. Dictionaries are denoted by {}\n",
    "3. Sequence of insertion is not maintained"
   ]
  },
  {
   "attachments": {},
   "cell_type": "markdown",
   "metadata": {},
   "source": [
    "![Med1.jpeg](./Images/Med1.jpeg)"
   ]
  },
  {
   "cell_type": "code",
   "execution_count": null,
   "metadata": {},
   "outputs": [],
   "source": [
    "medicine_box = {}\n",
    "print(type(medicine_box))"
   ]
  },
  {
   "cell_type": "code",
   "execution_count": null,
   "metadata": {},
   "outputs": [],
   "source": [
    "medicine_box      = {'Fever': 'Dolo 650', \n",
    "                    'Cold Running Nose': 'Sinarist', \n",
    "                    'Cough': 'Ascoril syrup', \n",
    "                    'Gastric' : 'Eno',\n",
    "                    'HeadAche':\"Imol\", \n",
    "                    'Motion': 'Eldopar'}\n",
    "print(medicine_box)"
   ]
  },
  {
   "cell_type": "code",
   "execution_count": null,
   "metadata": {},
   "outputs": [],
   "source": [
    "ferver_medicine = <Take the medicine for the fever>\n",
    "ferver_medicine"
   ]
  },
  {
   "cell_type": "markdown",
   "metadata": {},
   "source": [
    "#### Add the medicine for wounds"
   ]
  },
  {
   "cell_type": "code",
   "execution_count": null,
   "metadata": {},
   "outputs": [],
   "source": [
    "<add the medicine for the wounds>"
   ]
  },
  {
   "cell_type": "code",
   "execution_count": null,
   "metadata": {},
   "outputs": [],
   "source": [
    "print(medicine_box)"
   ]
  },
  {
   "cell_type": "code",
   "execution_count": null,
   "metadata": {},
   "outputs": [],
   "source": [
    "print (<the diseases for which the medicines are present>)\n",
    "\n",
    "print (<total medicine list>)"
   ]
  },
  {
   "cell_type": "markdown",
   "metadata": {},
   "source": [
    "#### Help there is the snake bite!!!!!!"
   ]
  },
  {
   "attachments": {},
   "cell_type": "markdown",
   "metadata": {},
   "source": [
    "![SnakeBite.jpeg](./Images/SnakeBite.jpeg)"
   ]
  },
  {
   "cell_type": "code",
   "execution_count": null,
   "metadata": {},
   "outputs": [],
   "source": [
    "getSnakeBiteMedicine=medicine_box['Snake Bite']\n",
    "getSnakeBiteMedicine"
   ]
  },
  {
   "cell_type": "code",
   "execution_count": null,
   "metadata": {},
   "outputs": [],
   "source": [
    "#If the key is not present get will not throw an error.\n",
    "getSnakeBiteMedicine  = <get medicine without throwing an error>\n",
    "print(getSnakeBiteMedicine)"
   ]
  },
  {
   "cell_type": "code",
   "execution_count": null,
   "metadata": {},
   "outputs": [],
   "source": [
    "#Check if the key exists or not\n",
    "print('Python Bite' in  medicine_box)"
   ]
  },
  {
   "cell_type": "code",
   "execution_count": null,
   "metadata": {},
   "outputs": [],
   "source": [
    "dailyAidBox = dict(head_ache='Zhandu Balm', body_pain=['Tiger Balm','Moov','Pressure Band'])"
   ]
  },
  {
   "cell_type": "code",
   "execution_count": null,
   "metadata": {},
   "outputs": [],
   "source": [
    "print(dailyAidBox)"
   ]
  },
  {
   "cell_type": "code",
   "execution_count": null,
   "metadata": {},
   "outputs": [],
   "source": [
    "print (len(dailyAidBox))"
   ]
  },
  {
   "cell_type": "code",
   "execution_count": null,
   "metadata": {},
   "outputs": [],
   "source": [
    "for key in dailyAidBox.keys():\n",
    "    print (\" for {} have {}\".format(key,dailyAidBox[key]))"
   ]
  },
  {
   "cell_type": "code",
   "execution_count": null,
   "metadata": {},
   "outputs": [],
   "source": [
    "for key in dailyAidBox.keys():\n",
    "    print (\" have {1} for {0}\".format(key,dailyAidBox[key]))"
   ]
  },
  {
   "attachments": {},
   "cell_type": "markdown",
   "metadata": {},
   "source": [
    "![ChannapatnaToys.png](./Images/ChannapatnaToys.png)"
   ]
  },
  {
   "cell_type": "markdown",
   "metadata": {},
   "source": [
    "                                           Practice\n",
    "                                           \n",
    "                                           \n",
    "    1. We have list of state and its toys\n",
    "    2. create a dictionary  \n",
    "    \n",
    "    \n",
    " | State | Toys |\n",
    " | :-: |:-: |\n",
    " |Karnataka| Channaptna  |\n",
    " |Telangana| Nirmal  |\n",
    " |Andra Pradesh| Kondapalli Bommalu |\n",
    " |Tamil Nadu| Thanjavur Dolls|\n",
    " |West Bengal| Natungram Dolls|\n",
    "    \n",
    "    \n",
    "    \n"
   ]
  },
  {
   "cell_type": "markdown",
   "metadata": {},
   "source": [
    "####  Create a dictionary of state and toys"
   ]
  },
  {
   "cell_type": "code",
   "execution_count": null,
   "metadata": {},
   "outputs": [],
   "source": [
    "toysFromStates={\n",
    " \"Karnataka\":\"Channapatna\", \n",
    " \"Telangana\":\"Nirmal\", \n",
    " \"AP\":\"Bommalu\",\n",
    " \"TN\":\"Tanjavur Dolls\",\n",
    " \"Wb\":\"Natungram Dolls\"\n",
    "}"
   ]
  },
  {
   "cell_type": "code",
   "execution_count": null,
   "metadata": {},
   "outputs": [],
   "source": [
    "toysFromStates\n"
   ]
  },
  {
   "cell_type": "markdown",
   "metadata": {},
   "source": [
    "#### List the states from which we have toys"
   ]
  },
  {
   "cell_type": "code",
   "execution_count": null,
   "metadata": {},
   "outputs": [],
   "source": []
  },
  {
   "cell_type": "markdown",
   "metadata": {},
   "source": [
    "#### List the type of toys"
   ]
  },
  {
   "cell_type": "code",
   "execution_count": null,
   "metadata": {},
   "outputs": [],
   "source": []
  },
  {
   "cell_type": "markdown",
   "metadata": {},
   "source": [
    "#### Add a new toy Asharikandi Terracota toy from Assam"
   ]
  },
  {
   "cell_type": "code",
   "execution_count": null,
   "metadata": {},
   "outputs": [],
   "source": []
  },
  {
   "cell_type": "markdown",
   "metadata": {},
   "source": [
    "#### List the state VS toys"
   ]
  },
  {
   "cell_type": "code",
   "execution_count": null,
   "metadata": {},
   "outputs": [],
   "source": []
  },
  {
   "cell_type": "markdown",
   "metadata": {},
   "source": [
    "#### Print the stateToy from Kerela and if its not available show its not available"
   ]
  },
  {
   "cell_type": "code",
   "execution_count": null,
   "metadata": {},
   "outputs": [],
   "source": []
  },
  {
   "cell_type": "code",
   "execution_count": null,
   "metadata": {},
   "outputs": [],
   "source": []
  }
 ],
 "metadata": {
  "anaconda-cloud": {},
  "kernelspec": {
   "display_name": "PythonNew  (ipykernel)",
   "language": "python",
   "name": "python3"
  },
  "language_info": {
   "codemirror_mode": {
    "name": "ipython",
    "version": 3
   },
   "file_extension": ".py",
   "mimetype": "text/x-python",
   "name": "python",
   "nbconvert_exporter": "python",
   "pygments_lexer": "ipython3",
   "version": "3.7.12"
  }
 },
 "nbformat": 4,
 "nbformat_minor": 1
}
