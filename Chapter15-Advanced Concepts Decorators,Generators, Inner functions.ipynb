{
 "cells": [
  {
   "cell_type": "markdown",
   "metadata": {},
   "source": [
    "##### Generator Function"
   ]
  },
  {
   "cell_type": "markdown",
   "metadata": {},
   "source": [
    "#### Wrestling Match "
   ]
  },
  {
   "attachments": {
    "Gama.png": {
     "image/png": "[encoded data removed]"
    }
   },
   "cell_type": "markdown",
   "metadata": {},
   "source": [
    "![Gama.png](attachment:Gama.png)"
   ]
  },
  {
   "cell_type": "code",
   "execution_count": 21,
   "metadata": {},
   "outputs": [
    {
     "name": "stdout",
     "output_type": "stream",
     "text": [
      "10 KG Banana And A Cycle\n"
     ]
    }
   ],
   "source": [
    "def WinnerPrizes():\n",
    "    FirstPrize=\"10 KG Banana And A Cycle\"\n",
    "    return <return first prize>\n",
    "    SecondPrize=\"5 KG Banana And A Transistor\"\n",
    "    ThirdPrize=\" 3 KG Banana And Copper Mug\"\n",
    "    \n",
    "    \n",
    "print(WinnerPrizes())"
   ]
  },
  {
   "cell_type": "code",
   "execution_count": 22,
   "metadata": {},
   "outputs": [],
   "source": [
    "# Generator returns an Iterator"
   ]
  },
  {
   "cell_type": "code",
   "execution_count": 23,
   "metadata": {},
   "outputs": [
    {
     "name": "stdout",
     "output_type": "stream",
     "text": [
      "Gama Phelwan Won .. 10 KG Banana And A CYCLE\n",
      "Nata Phelwan Won .. 5 KG Banana And A Transistor\n",
      "Hima Phelwan Won .. 3 KG Banana And Copper Mug\n"
     ]
    }
   ],
   "source": [
    "def WinnerPrizes():\n",
    "    FirstPrize=\"10 KG Banana And A CYCLE\"\n",
    "    iterate FirstPrize\n",
    "    SecondPrize=\"5 KG Banana And A Transistor\"\n",
    "    iterate SecondPrize\n",
    "    ThirdPrize=\"3 KG Banana And Copper Mug\"\n",
    "    iterate ThirdPrize\n",
    "    \n",
    "prizes =WinnerPrizes()\n",
    "print( \"Gama Phelwan Won .. \"+next(prizes))\n",
    "print( \"Nata Phelwan Won .. \"+next(prizes))\n",
    "print( \"Hima Phelwan Won .. \"+next(prizes))\n"
   ]
  },
  {
   "cell_type": "code",
   "execution_count": 24,
   "metadata": {},
   "outputs": [
    {
     "name": "stdout",
     "output_type": "stream",
     "text": [
      "10 KG Banana And A CYCLE\n",
      "5 KG Banana And A Transistor\n",
      "3 KG Banana And Copper Mug\n"
     ]
    }
   ],
   "source": [
    "for prizes in WinnerPrizes():\n",
    "    print (prizes)"
   ]
  },
  {
   "cell_type": "markdown",
   "metadata": {},
   "source": [
    "#### Inner Functions:"
   ]
  },
  {
   "attachments": {},
   "cell_type": "markdown",
   "metadata": {},
   "source": [
    "![Gama1.jpeg](./Images/Gama1.jpeg)"
   ]
  },
  {
   "cell_type": "code",
   "execution_count": 25,
   "metadata": {},
   "outputs": [
    {
     "name": "stdout",
     "output_type": "stream",
     "text": [
      "workout Plan ...................................................\n",
      "suryanamaskar 500\n",
      "squats 1000\n",
      "pushups 200\n",
      "planks 30 minutes\n",
      "Diet Plan ..................................................\n",
      "5 liters milk\n",
      "5 Desi chickens\n",
      "Almond juice 2 liter\n"
     ]
    }
   ],
   "source": [
    "def phelwanTraining():\n",
    "    \n",
    "     <inner function>\n",
    "    \n",
    "      exercise = [\"suryanamaskar 500\",\"squats 1000\",\"pushups 200\",\"planks 30 minutes\"]\n",
    "      print (\"workout Plan ...................................................\")\n",
    "      for workout in exercise:\n",
    "            print(workout)\n",
    "      \n",
    "            \n",
    "phelwanTraining()\n",
    "   "
   ]
  },
  {
   "cell_type": "markdown",
   "metadata": {},
   "source": [
    "#### Decorator in python"
   ]
  },
  {
   "cell_type": "code",
   "execution_count": 27,
   "metadata": {},
   "outputs": [],
   "source": [
    "def div(a,b):\n",
    "    return a/b"
   ]
  },
  {
   "cell_type": "code",
   "execution_count": 29,
   "metadata": {},
   "outputs": [
    {
     "name": "stdout",
     "output_type": "stream",
     "text": [
      "2.0\n"
     ]
    }
   ],
   "source": [
    "print (div(4,2))"
   ]
  },
  {
   "cell_type": "code",
   "execution_count": 30,
   "metadata": {},
   "outputs": [
    {
     "name": "stdout",
     "output_type": "stream",
     "text": [
      "0.5\n"
     ]
    }
   ],
   "source": [
    "print (div(2,4))"
   ]
  },
  {
   "cell_type": "code",
   "execution_count": 31,
   "metadata": {},
   "outputs": [],
   "source": [
    "def div(a,b):\n",
    "    if(a<b):\n",
    "        a,b =b,a\n",
    "    return a/b"
   ]
  },
  {
   "cell_type": "code",
   "execution_count": 32,
   "metadata": {},
   "outputs": [
    {
     "name": "stdout",
     "output_type": "stream",
     "text": [
      "2.0\n"
     ]
    }
   ],
   "source": [
    "print (div(2,4))"
   ]
  },
  {
   "cell_type": "code",
   "execution_count": 46,
   "metadata": {},
   "outputs": [],
   "source": [
    "def div(a,b):\n",
    "    return a/b"
   ]
  },
  {
   "cell_type": "code",
   "execution_count": 52,
   "metadata": {},
   "outputs": [],
   "source": [
    "def smart_funct(func):\n",
    "    def inner_funct(a,b):\n",
    "        if(a<b):\n",
    "            a,b =b,a\n",
    "        return func(a,b)\n",
    "    return inner_funct\n",
    "    \n",
    "    \n",
    "    "
   ]
  },
  {
   "cell_type": "code",
   "execution_count": 54,
   "metadata": {},
   "outputs": [
    {
     "data": {
      "text/plain": [
       "2.0"
      ]
     },
     "execution_count": 54,
     "metadata": {},
     "output_type": "execute_result"
    }
   ],
   "source": [
    "div=smart_funct(div)\n",
    "div(2,4)"
   ]
  }
 ],
 "metadata": {
  "kernelspec": {
   "display_name": "PythonNew  (ipykernel)",
   "language": "python",
   "name": "python3"
  },
  "language_info": {
   "codemirror_mode": {
    "name": "ipython",
    "version": 3
   },
   "file_extension": ".py",
   "mimetype": "text/x-python",
   "name": "python",
   "nbconvert_exporter": "python",
   "pygments_lexer": "ipython3",
   "version": "3.7.12"
  }
 },
 "nbformat": 4,
 "nbformat_minor": 4
}
