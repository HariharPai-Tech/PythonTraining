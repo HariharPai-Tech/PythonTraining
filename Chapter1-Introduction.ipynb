{
 "cells": [
  {
   "cell_type": "markdown",
   "metadata": {},
   "source": [
    "1. It is the easiest programming language. Its a general purpose high level programming language ( human understandable languages).\n",
    "2. Gudio Van Rossam in 1989 from Neitherlands founded this course.\n",
    "3. Official DOB for python is  Feb. 1991"
   ]
  },
  {
   "attachments": {},
   "cell_type": "markdown",
   "metadata": {},
   "source": [
    "![guido-headshot-2019.jpeg](./Images/guido-headshot-2019.jpeg)"
   ]
  },
  {
   "cell_type": "code",
   "execution_count": 2,
   "metadata": {},
   "outputs": [
    {
     "name": "stdout",
     "output_type": "stream",
     "text": [
      "Thank you Rossam for python\n"
     ]
    }
   ],
   "source": [
    "thankNote = \"Thank you Rossam for python\"\n",
    "print(thankNote)"
   ]
  },
  {
   "cell_type": "markdown",
   "metadata": {},
   "source": [
    "##### The python name is taken from the old BBC comdy serial Monty Python flying circus. It was six peoples sketch comedy ( comedy between 1 to 10 minutes long ) scene."
   ]
  },
  {
   "attachments": {},
   "cell_type": "markdown",
   "metadata": {},
   "source": [
    "![Circus.jpeg](./Images/Circus.jpeg)"
   ]
  },
  {
   "cell_type": "markdown",
   "metadata": {},
   "source": [
    "##### Unlike C and Java which are Statically typed language, where you have to explicity mention type of variables. Python is Dynamically typed language. \n",
    "##### The type of the vaiable here is decided  at the time of assignment."
   ]
  },
  {
   "cell_type": "markdown",
   "metadata": {},
   "source": [
    "```\n",
    "public class FirstExample{\n",
    "   public static void main( String [] args){\n",
    "     \n",
    "       int a=10;\n",
    "       a=true;\n",
    "  }\n",
    " \n",
    "}\n",
    "```\n",
    "\n",
    "##### The above will throw error  =>  incompatable types:  Boolean cannot be converted to int"
   ]
  },
  {
   "cell_type": "code",
   "execution_count": 6,
   "metadata": {},
   "outputs": [
    {
     "name": "stdout",
     "output_type": "stream",
     "text": [
      "<class 'int'>\n",
      "<class 'bool'>\n"
     ]
    }
   ],
   "source": [
    "i=10\n",
    "print (type(i)) # <class 'int'>\n",
    "i=True\n",
    "print (type(i)) # <class 'bool'>"
   ]
  },
  {
   "cell_type": "markdown",
   "metadata": {},
   "source": [
    "It is interpreted, Object oriented, interactive (Python prompt and interact with the interpreter directly).\n",
    "Gudio took the popular features from the other programming languages\n",
    "\n",
    "1. Functional programming from C \n",
    "2. OOPS from C++\n",
    "3. Scripting language features from perl and shell script\n",
    "4. Modular programming languages from Modula-3 \n",
    "5. Heavily borrowed from   C and ABC programming."
   ]
  }
 ],
 "metadata": {
  "kernelspec": {
   "display_name": "PythonNew  (ipykernel)",
   "language": "python",
   "name": "python3"
  },
  "language_info": {
   "codemirror_mode": {
    "name": "ipython",
    "version": 3
   },
   "file_extension": ".py",
   "mimetype": "text/x-python",
   "name": "python",
   "nbconvert_exporter": "python",
   "pygments_lexer": "ipython3",
   "version": "3.7.12"
  }
 },
 "nbformat": 4,
 "nbformat_minor": 4
}
