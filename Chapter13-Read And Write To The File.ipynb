{
 "cells": [
  {
   "attachments": {},
   "cell_type": "markdown",
   "metadata": {},
   "source": [
    "![BookWriting.png](./Images/BookWriting.png)"
   ]
  },
  {
   "cell_type": "markdown",
   "metadata": {},
   "source": [
    "#### How to write to the file?\n",
    "\n",
    "1. Open the file\n",
    "2. Write/read the content\n",
    "3. Close the file"
   ]
  },
  {
   "cell_type": "markdown",
   "metadata": {},
   "source": [
    "1. \"r\" - Read - Default value. Opens a file for reading, error if the file does not exist\n",
    "2. \"a\" - Append - Opens a file for appending, creates the file if it does not exist\n",
    "3. \"w\" - Write - Opens a file for writing, creates the file if it does not exist\n",
    "4. \"x\" - Create - Creates the specified file, returns an error if the file exists"
   ]
  },
  {
   "cell_type": "code",
   "execution_count": 22,
   "metadata": {},
   "outputs": [],
   "source": [
    "#open file\n",
    "f = open(\"malnadMysteriesPreface.txt\")"
   ]
  },
  {
   "cell_type": "code",
   "execution_count": 23,
   "metadata": {},
   "outputs": [
    {
     "data": {
      "text/plain": [
       "\"The Malnad region is a natural wonder that must be seen to be believed. It is distinguished by its warm and welcoming people and its magnificent natural beauty. Every town in this region has different stories.\\nI've assembled a collection of 17 such mysterious tales for your reading pleasure in this book.\\nI've had personal experience with these stories or heard them from other folks.\\nThe gods, the demigods, the rituals, the innocence and the science all are part of the stories.\\nPeople pass away, but the stories live on. I didn't want these stories to perish with me, so I wrote them down. These are the one-of-a-kind stories about the place, the real people who lived there, and their narrations. To protect their privacy, I've changed the names of a select few people.\\nSome of the tales remain shrouded in secrecy. It's possible that if you come from one of these regions, some of these tales were passed down to you by your ancestors. If you have any information, please get in touch with the author.\\nWhenever feasible, I've tried to provide actual photos of the individuals and locations featured in the stories.\\nFourteen of these stories take place in the Malnad region. The remaining three stories are from Bangalore, Tuticorin, and Goa. Each one is more mysterious than the other. Enjoy reading.\\nI would like to know the feedback of the readers. And also if they could solve any of the mysteries.\""
      ]
     },
     "execution_count": 23,
     "metadata": {},
     "output_type": "execute_result"
    }
   ],
   "source": [
    "<read the file>"
   ]
  },
  {
   "cell_type": "code",
   "execution_count": 24,
   "metadata": {},
   "outputs": [
    {
     "name": "stdout",
     "output_type": "stream",
     "text": [
      "<class 'str'>\n"
     ]
    }
   ],
   "source": [
    "print (type(f.read()))"
   ]
  },
  {
   "cell_type": "code",
   "execution_count": 25,
   "metadata": {},
   "outputs": [
    {
     "name": "stdout",
     "output_type": "stream",
     "text": [
      "The Malnad region is a natural wonder that must be seen to be believed. It is distinguished by its warm and welcoming people and its magnificent natural beauty. Every town in this region has different stories.\n",
      "I've assembled a collection of 17 such mysterious tales for your reading pleasure in this book.\n",
      "I've had personal experience with these stories or heard them from other folks.\n",
      "The gods, the demigods, the rituals, the innocence and the science all are part of the stories.\n",
      "People pass away, but the stories live on. I didn't want these stories to perish with me, so I wrote them down. These are the one-of-a-kind stories about the place, the real people who lived there, and their narrations. To protect their privacy, I've changed the names of a select few people.\n",
      "Some of the tales remain shrouded in secrecy. It's possible that if you come from one of these regions, some of these tales were passed down to you by your ancestors. If you have any information, please get in touch with the author.\n",
      "Whenever feasible, I've tried to provide actual photos of the individuals and locations featured in the stories.\n",
      "Fourteen of these stories take place in the Malnad region. The remaining three stories are from Bangalore, Tuticorin, and Goa. Each one is more mysterious than the other. Enjoy reading.\n",
      "I would like to know the feedback of the readers. And also if they could solve any of the mysteries.\n"
     ]
    }
   ],
   "source": [
    "<read and split the lines>"
   ]
  },
  {
   "cell_type": "code",
   "execution_count": 26,
   "metadata": {},
   "outputs": [],
   "source": [
    "<append the message>\n",
    "\n",
    "message= \"I would like to know the feedback of the readers. And also if they could solve any of the mysteries.\"\n",
    "\n",
    "\n",
    "f.close() "
   ]
  },
  {
   "cell_type": "code",
   "execution_count": 27,
   "metadata": {},
   "outputs": [
    {
     "name": "stdout",
     "output_type": "stream",
     "text": [
      "The Malnad region is a natural wonder that must be seen to be believed. It is distinguished by its warm and welcoming people and its magnificent natural beauty. Every town in this region has different stories.\n",
      "I've assembled a collection of 17 such mysterious tales for your reading pleasure in this book.\n",
      "I've had personal experience with these stories or heard them from other folks.\n",
      "The gods, the demigods, the rituals, the innocence and the science all are part of the stories.\n",
      "People pass away, but the stories live on. I didn't want these stories to perish with me, so I wrote them down. These are the one-of-a-kind stories about the place, the real people who lived there, and their narrations. To protect their privacy, I've changed the names of a select few people.\n",
      "Some of the tales remain shrouded in secrecy. It's possible that if you come from one of these regions, some of these tales were passed down to you by your ancestors. If you have any information, please get in touch with the author.\n",
      "Whenever feasible, I've tried to provide actual photos of the individuals and locations featured in the stories.\n",
      "Fourteen of these stories take place in the Malnad region. The remaining three stories are from Bangalore, Tuticorin, and Goa. Each one is more mysterious than the other. Enjoy reading.\n",
      "I would like to know the feedback of the readers. And also if they could solve any of the mysteries.I would like to know the feedback of the readers. And also if they could solve any of the mysteries.\n"
     ]
    }
   ],
   "source": [
    "<read the file. again>"
   ]
  },
  {
   "cell_type": "markdown",
   "metadata": {},
   "source": [
    "#### JSON - Java Script Object Notation\n"
   ]
  },
  {
   "cell_type": "code",
   "execution_count": 28,
   "metadata": {},
   "outputs": [
    {
     "name": "stdout",
     "output_type": "stream",
     "text": [
      "{'Name': 'Malnad Mysteries', 'NumberOfPages': 100, 'Author': 'Mr. Pai', 'Genere': ['Spooky', 'Mystery', 'Based On Real Life Events']}\n"
     ]
    }
   ],
   "source": [
    "#JSon to Dictionary\n",
    "#json.loads() method can be used to parse a valid JSON string and convert it into a Python Dictionary.\n",
    "\n",
    "import json\n",
    "  \n",
    "# JSON string:\n",
    "# Multi-line string\n",
    "bookDetails = \"\"\"{\n",
    "    \"Name\": \"Malnad Mysteries\",\n",
    "    \"NumberOfPages\": 100,\n",
    "    \"Author\": \"Mr. Pai\",\n",
    "    \"Genere\":[\"Spooky\", \"Mystery\", \"Based On Real Life Events\"]\n",
    "    }\"\"\"\n",
    "\n",
    "  \n",
    "# parse x:\n",
    "bookMap = <convert to dictionary>\n",
    "  \n",
    "# the result is a Python dictionary:\n",
    "print(bookMap)"
   ]
  },
  {
   "cell_type": "code",
   "execution_count": 29,
   "metadata": {},
   "outputs": [
    {
     "name": "stdout",
     "output_type": "stream",
     "text": [
      "['Spooky', 'Mystery', 'Based On Real Life Events']\n"
     ]
    }
   ],
   "source": [
    "print (<key>)"
   ]
  },
  {
   "cell_type": "code",
   "execution_count": 30,
   "metadata": {},
   "outputs": [
    {
     "name": "stdout",
     "output_type": "stream",
     "text": [
      "{'Author': 'Mr Pai', 'Genere': ['Spooky', 'Mystery', 'Based On Real Life Events'], 'NumberOfPages': 100}\n"
     ]
    }
   ],
   "source": [
    "#Dictionary to Json\n",
    "\n",
    "book = {}\n",
    "\n",
    "book['Author'] = \"Mr Pai\"\n",
    "book['Genere'] =[\"Spooky\", \"Mystery\", \"Based On Real Life Events\"]\n",
    "book[\"NumberOfPages\"]= 100\n",
    "\n",
    "print(book)"
   ]
  },
  {
   "cell_type": "code",
   "execution_count": 31,
   "metadata": {},
   "outputs": [],
   "source": [
    "bookJson = <convert to json>"
   ]
  },
  {
   "cell_type": "code",
   "execution_count": 32,
   "metadata": {},
   "outputs": [
    {
     "data": {
      "text/plain": [
       "'{\"Author\": \"Mr Pai\", \"Genere\": [\"Spooky\", \"Mystery\", \"Based On Real Life Events\"], \"NumberOfPages\": 100}'"
      ]
     },
     "execution_count": 32,
     "metadata": {},
     "output_type": "execute_result"
    }
   ],
   "source": [
    "bookJson"
   ]
  },
  {
   "cell_type": "code",
   "execution_count": 33,
   "metadata": {},
   "outputs": [],
   "source": [
    "# Writing to sample.json\n",
    "with open(\"book.json\", \"w\") as outfile:\n",
    "    outfile.write(bookJson)\n",
    "    "
   ]
  },
  {
   "cell_type": "code",
   "execution_count": 34,
   "metadata": {},
   "outputs": [
    {
     "name": "stdout",
     "output_type": "stream",
     "text": [
      "The file does not exist\n"
     ]
    }
   ],
   "source": [
    "import os\n",
    "if <checkiffileexist>:\n",
    "  <remove file>\n",
    "else:\n",
    "  print(\"The file does not exist\")"
   ]
  }
 ],
 "metadata": {
  "kernelspec": {
   "display_name": "PythonNew  (ipykernel)",
   "language": "python",
   "name": "python3"
  },
  "language_info": {
   "codemirror_mode": {
    "name": "ipython",
    "version": 3
   },
   "file_extension": ".py",
   "mimetype": "text/x-python",
   "name": "python",
   "nbconvert_exporter": "python",
   "pygments_lexer": "ipython3",
   "version": "3.7.12"
  }
 },
 "nbformat": 4,
 "nbformat_minor": 4
}
