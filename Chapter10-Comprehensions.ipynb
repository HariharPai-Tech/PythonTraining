{
 "cells": [
  {
   "cell_type": "markdown",
   "metadata": {},
   "source": [
    "![phd1.jpeg](./Images/phd1.jpeg)"
   ]
  },
  {
   "cell_type": "code",
   "execution_count": 39,
   "metadata": {},
   "outputs": [
    {
     "name": "stdout",
     "output_type": "stream",
     "text": [
      "['Dr.Ajay', 'Dr.Dan', 'Dr.Rohan', 'Dr.Raj', 'Dr.Nisha', 'Dr.Riya']\n"
     ]
    }
   ],
   "source": [
    "gradsList= [\"Ajay\",\"Dan\",\"Rohan\",\"Raj\",\"Nisha\",\"Riya\"]\n",
    "phd_grads =[]\n",
    "\n",
    "for graduate in gradsList:\n",
    "    phd_grads.append('Dr.'+graduate)\n",
    "print(phd_grads)\n"
   ]
  },
  {
   "cell_type": "code",
   "execution_count": 46,
   "metadata": {},
   "outputs": [
    {
     "name": "stdout",
     "output_type": "stream",
     "text": [
      "['Dr.Ajay', 'Dr.Dan', 'Dr.Rohan', 'Dr.Raj', 'Dr.Nisha', 'Dr.Riya']\n"
     ]
    }
   ],
   "source": [
    "\n",
    "new_phd =[<use list comprehension to add the Dr.>]\n",
    "print(new_phd)"
   ]
  },
  {
   "cell_type": "code",
   "execution_count": 47,
   "metadata": {},
   "outputs": [
    {
     "name": "stdout",
     "output_type": "stream",
     "text": [
      "[1, 4, 9, 16, 25, 36, 49, 64, 81]\n"
     ]
    }
   ],
   "source": [
    "squares_list = [<square list of number from 1 to 9>]\n",
    "print(squares_list)"
   ]
  },
  {
   "cell_type": "code",
   "execution_count": 4,
   "metadata": {},
   "outputs": [],
   "source": [
    "paragraph = [\"There was a fox.\" , 'It was brown in color.', \"It was seen near that farm sometime back\"]"
   ]
  },
  {
   "cell_type": "code",
   "execution_count": 5,
   "metadata": {},
   "outputs": [],
   "source": [
    "# ['There', 'was', 'a', 'fox.', 'It', 'was', 'brown', 'in', 'color.', 'It', 'was', 'seen', 'near', 'that', 'farm', 'sometime', 'back']"
   ]
  },
  {
   "cell_type": "code",
   "execution_count": 6,
   "metadata": {},
   "outputs": [
    {
     "name": "stdout",
     "output_type": "stream",
     "text": [
      "['There', 'was', 'a', 'fox.', 'It', 'was', 'brown', 'in', 'color.', 'It', 'was', 'seen', 'near', 'that', 'farm', 'sometime', 'back']\n"
     ]
    }
   ],
   "source": [
    "single_word_list =[]\n",
    "\n",
    "for sentence in paragraph:\n",
    "    for word in sentence.split():\n",
    "        single_word_list.append(word)\n",
    "\n",
    "print(single_word_list)"
   ]
  },
  {
   "cell_type": "code",
   "execution_count": 7,
   "metadata": {},
   "outputs": [
    {
     "name": "stdout",
     "output_type": "stream",
     "text": [
      "['There', 'was', 'a', 'fox.', 'It', 'was', 'brown', 'in', 'color.', 'It', 'was', 'seen', 'near', 'that', 'farm', 'sometime', 'back']\n"
     ]
    }
   ],
   "source": [
    "single_word_list  = [<above in list comprehension>]\n",
    "print(single_word_list)"
   ]
  },
  {
   "cell_type": "code",
   "execution_count": 8,
   "metadata": {},
   "outputs": [
    {
     "name": "stdout",
     "output_type": "stream",
     "text": [
      "['a', 'It', 'in', 'It']\n"
     ]
    }
   ],
   "source": [
    "#list comp with if statement\n",
    "vowels = ['a','e','i','o','u']\n",
    "vowels_from_sentence =[]\n",
    "for sentence in paragraph:\n",
    "    for word in sentence.split():\n",
    "        if word[0].lower() in vowels:\n",
    "            vowels_from_sentence.append(word)\n",
    "\n",
    "print(vowels_from_sentence)\n"
   ]
  },
  {
   "cell_type": "code",
   "execution_count": null,
   "metadata": {
    "collapsed": true
   },
   "outputs": [],
   "source": [
    "#[ for sentence in paragraph]\n",
    "#[ for sentence in paragraph for word in sentence.split()]\n"
   ]
  },
  {
   "cell_type": "code",
   "execution_count": 9,
   "metadata": {},
   "outputs": [
    {
     "name": "stdout",
     "output_type": "stream",
     "text": [
      "['a', 'It', 'in', 'It']\n"
     ]
    }
   ],
   "source": [
    "vowels_comp = [word for sentence in paragraph for word in sentence.split() if word[0].lower() in vowels]\n",
    "print(vowels_comp)"
   ]
  },
  {
   "cell_type": "code",
   "execution_count": 48,
   "metadata": {},
   "outputs": [
    {
     "name": "stdout",
     "output_type": "stream",
     "text": [
      "{0: 0, 1: 1, 2: 4, 3: 9, 4: 16, 5: 25, 6: 36, 7: 49, 8: 64, 9: 81}\n"
     ]
    }
   ],
   "source": [
    "squared_dictionary = {num : num**2 for num in range(0, 10)}\n",
    "print(squared_dictionary)"
   ]
  },
  {
   "cell_type": "code",
   "execution_count": 7,
   "metadata": {},
   "outputs": [],
   "source": [
    "students_data = {1:['Ajay', 24] , 2:['Bjay',25], 3:['Cjay', 26], 4:['Djay',24], 5:['Ejay',27]}\n"
   ]
  },
  {
   "cell_type": "code",
   "execution_count": 8,
   "metadata": {},
   "outputs": [
    {
     "name": "stdout",
     "output_type": "stream",
     "text": [
      "{2: 'Bjay', 4: 'Djay'}\n"
     ]
    }
   ],
   "source": [
    "names_dict ={}\n",
    "\n",
    "#iterate over each key, val pair\n",
    "for roll_num,details in students_data.items():\n",
    "    if roll_num%2==0:\n",
    "        names_dict[roll_num]= details[0]\n",
    "print(names_dict)"
   ]
  },
  {
   "cell_type": "code",
   "execution_count": 9,
   "metadata": {},
   "outputs": [
    {
     "name": "stdout",
     "output_type": "stream",
     "text": [
      "{2: 'Bjay', 4: 'Djay'}\n"
     ]
    }
   ],
   "source": [
    "names_comp = {roll_num:details[0] for roll_num,details in students_data.items() if roll_num%2==0}\n",
    "print(names_comp)"
   ]
  }
 ],
 "metadata": {
  "anaconda-cloud": {},
  "kernelspec": {
   "display_name": "PythonNew  (ipykernel)",
   "language": "python",
   "name": "python3"
  },
  "language_info": {
   "codemirror_mode": {
    "name": "ipython",
    "version": 3
   },
   "file_extension": ".py",
   "mimetype": "text/x-python",
   "name": "python",
   "nbconvert_exporter": "python",
   "pygments_lexer": "ipython3",
   "version": "3.7.12"
  }
 },
 "nbformat": 4,
 "nbformat_minor": 1
}
